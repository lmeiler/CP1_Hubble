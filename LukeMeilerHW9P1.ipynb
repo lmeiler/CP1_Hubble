{
 "cells": [
  {
   "cell_type": "markdown",
   "id": "85a6b1b9-400f-4331-ac10-0a8d7b8d6b14",
   "metadata": {},
   "source": [
    "# Homework 9 Problem 1\n",
    "\n",
    "## Luke Meiler\n",
    "\n",
    "### Rate of Incline\n",
    "\n",
    "Using the [PhyPhox](https://phyphox.org/) phone app, we measured the incline of a phone. We will be applying a linear fit to this data, and then we will use the slope of this fit to find the rate at which the phone was tilted. \n",
    "\n",
    "As usual we start with some import statements:"
   ]
  },
  {
   "cell_type": "code",
   "execution_count": 1,
   "id": "60285ec3-93f0-4c8c-8bac-7fb13d74bf64",
   "metadata": {},
   "outputs": [],
   "source": [
    "import matplotlib.pyplot as plt\n",
    "\n",
    "import numpy as np\n",
    "import math"
   ]
  },
  {
   "cell_type": "code",
   "execution_count": 2,
   "id": "223635d0-fb18-4744-9d4a-d794a8a0b0b8",
   "metadata": {},
   "outputs": [],
   "source": [
    "%load_ext pycodestyle_magic\n",
    "%pycodestyle_on"
   ]
  },
  {
   "cell_type": "markdown",
   "id": "b94b39db-5a53-4173-9326-72155c294621",
   "metadata": {},
   "source": [
    "### Getting the Data\n",
    "\n",
    "After exporting the data from the PhyPhox app into a csv, we use numpy and some custom functions to get the data into a usable form."
   ]
  },
  {
   "cell_type": "code",
   "execution_count": 4,
   "id": "8a68205c-84be-43e4-9dff-58e1b80b5e01",
   "metadata": {},
   "outputs": [
    {
     "data": {
      "text/plain": [
       "numpy.ndarray"
      ]
     },
     "execution_count": 4,
     "metadata": {},
     "output_type": "execute_result"
    },
    {
     "name": "stderr",
     "output_type": "stream",
     "text": [
      "1:80: E501 line too long (90 > 79 characters)\n"
     ]
    }
   ],
   "source": [
    "data = np.genfromtxt(fname='LukeMeilerInclinationData.txt', usecols=(0, 1), skip_header=1)\n",
    "type(data)"
   ]
  },
  {
   "cell_type": "code",
   "execution_count": 5,
   "id": "e0b523ec-6f49-41fd-bc87-bd4724fab28f",
   "metadata": {},
   "outputs": [],
   "source": [
    "def get_vals(data):\n",
    "    \"\"\"This function takes the data set generated from the\n",
    "    numpy genfromtxt function of the three desired columns\n",
    "    and returns a list of three lists: the times, CH4 levels,\n",
    "    and uncertainties.\n",
    "\n",
    "    Parameters:\n",
    "\n",
    "    data: numpy.ndarry\n",
    "\n",
    "        The set of data that you wish to rearrange into a list of its\n",
    "        columns in each list.\n",
    "\n",
    "    Returns:\n",
    "\n",
    "    master_list: list\n",
    "\n",
    "        A list containing a list for each column in the inputed data set\n",
    "        with the elements of said column.\n",
    "\n",
    "    \"\"\"\n",
    "    time_list = []\n",
    "    inc_list = []\n",
    "    master_list = []\n",
    "    for i in data:\n",
    "        time_list.append(i[0])\n",
    "        inc_list.append(i[1])\n",
    "    master_list.append(time_list)\n",
    "    master_list.append(inc_list)\n",
    "    return master_list"
   ]
  },
  {
   "cell_type": "code",
   "execution_count": 6,
   "id": "5479b330-59ef-44c2-bd03-452920d0e8e7",
   "metadata": {},
   "outputs": [],
   "source": [
    "data_list = get_vals(data)\n",
    "time = data_list[0]\n",
    "incline = data_list[1]"
   ]
  },
  {
   "cell_type": "markdown",
   "id": "6b93991a-0dbe-4662-81d5-3f38f6360657",
   "metadata": {},
   "source": [
    "### Plotting the Data\n",
    "\n",
    "Here we plot the data using matplotlib. As we can see, the data is strongly linear, meaning that the phone was rotated at a very constant rate. This rate will just be the slope of the linear fit that we make."
   ]
  },
  {
   "cell_type": "code",
   "execution_count": 7,
   "id": "700ba067-b5d2-4974-958d-4072f0d22cf5",
   "metadata": {},
   "outputs": [
    {
     "data": {
      "text/plain": [
       "[<matplotlib.lines.Line2D at 0x7f77744b0430>]"
      ]
     },
     "execution_count": 7,
     "metadata": {},
     "output_type": "execute_result"
    },
    {
     "data": {
      "image/png": "[encoded data removed]",
      "text/plain": [
       "<Figure size 432x288 with 1 Axes>"
      ]
     },
     "metadata": {
      "needs_background": "light"
     },
     "output_type": "display_data"
    }
   ],
   "source": [
    "plt.plot(time, incline)"
   ]
  },
  {
   "cell_type": "markdown",
   "id": "8b85eabc-b3b0-4397-b598-e543b693f785",
   "metadata": {},
   "source": [
    "### Making the Fit\n",
    "\n",
    "In order to make the fit, we use a function from a previous homework. This function will take a list of x and y values and return the fit parameters, $a$ and $b$, as well as the $\\sigma^2$ value."
   ]
  },
  {
   "cell_type": "code",
   "execution_count": 8,
   "id": "b8f5a9fe-ce32-429f-aca7-9bc1663bb01a",
   "metadata": {},
   "outputs": [],
   "source": [
    "def computeSigma(x_list, y_list):\n",
    "    \"\"\"\"Takes a list of x and y values. Returns the sigma squared value,\n",
    "    the a value, and the b value for the data set.\"\"\"\n",
    "    x_length = len(x_list)\n",
    "    y_length = len(y_list)\n",
    "    s_x = 0\n",
    "    s_y = 0\n",
    "    s_xx = 0\n",
    "    s_xy = 0\n",
    "    sigma2 = 0\n",
    "    if x_length != y_length:\n",
    "        print(\"Error: X and Y lengths not equal\")\n",
    "        return None\n",
    "    n = x_length\n",
    "    if n < 2:\n",
    "        print(\"Error: Not enough data points\")\n",
    "        return None\n",
    "    for i in range(0, n):\n",
    "        s_x += x_list[i]\n",
    "        s_y += y_list[i]\n",
    "        s_xx += x_list[i]**2\n",
    "        s_xy += x_list[i]*y_list[i]\n",
    "    den = n * s_xx - s_x*s_x\n",
    "    if abs(den) < 0.0000001:\n",
    "        print(\"Error: Denominator is zero\")\n",
    "        return None\n",
    "    a = (s_xx * s_y - s_x * s_xy) / den\n",
    "    b = (n*s_xy - s_x * s_y) / den\n",
    "    for i in range(0, n):\n",
    "        sigma2 += (y_list[i] - (a*x_list[i]+b))**2\n",
    "    sigma2 = sigma2 / (n-2)\n",
    "#    print(s_x, s_y, s_xx, s_xy, n,a,b,sigma2)\n",
    "    returnList = []\n",
    "    returnList.append(sigma2)\n",
    "    returnList.append(a)\n",
    "    returnList.append(b)\n",
    "    return returnList"
   ]
  },
  {
   "cell_type": "code",
   "execution_count": 10,
   "id": "2288df6e-28e7-4827-9fdc-ff2030970281",
   "metadata": {},
   "outputs": [
    {
     "name": "stdout",
     "output_type": "stream",
     "text": [
      "The fit parameters are: a: -8.092159159470697, b: 2.639922066794625, sigma^2: 61883.41491412405\n"
     ]
    }
   ],
   "source": [
    "compute = computeSigma(time, incline)\n",
    "sigma2 = compute[0]\n",
    "a = compute[1]\n",
    "b = compute[2]\n",
    "print(\"The fit parameters are: a: {}, b: {}, sigma^2: {}\".format(a, b, sigma2))"
   ]
  },
  {
   "cell_type": "markdown",
   "id": "6787a2b3-288a-4578-a23a-8469e6b746e6",
   "metadata": {},
   "source": [
    "We can see that the fit line is of the form $y = bx + a$ with these parameters. Now to plot the fit line:"
   ]
  },
  {
   "cell_type": "code",
   "execution_count": 11,
   "id": "7bb60d31-59bc-4f24-8956-3a434092d5b0",
   "metadata": {},
   "outputs": [
    {
     "data": {
      "image/png": "[encoded data removed]",
      "text/plain": [
       "<Figure size 432x288 with 1 Axes>"
      ]
     },
     "metadata": {
      "needs_background": "light"
     },
     "output_type": "display_data"
    }
   ],
   "source": [
    "plt.scatter(time, incline)\n",
    "\n",
    "x_vals = np.linspace(0, 40)\n",
    "fitline = a + b * x_vals\n",
    "plt.plot(x_vals, fitline, '-r')\n",
    "plt.xlabel(\"Time (s)\")\n",
    "plt.ylabel(\"Incline (degrees)\")\n",
    "plt.show()"
   ]
  },
  {
   "cell_type": "markdown",
   "id": "8e0f32a4-7db2-4cdb-adb3-ffda6457aefd",
   "metadata": {},
   "source": [
    "We can visually see that this fit line looks very accurate. We can then say that the rate at which the phone's pitch changed was fairly constant at approximately $2.64 \\frac{degrees}{sec}$"
   ]
  },
  {
   "cell_type": "code",
   "execution_count": null,
   "id": "fd0d763c-b5fa-49f3-8bed-e014aab85db8",
   "metadata": {},
   "outputs": [],
   "source": []
  }
 ],
 "metadata": {
  "kernelspec": {
   "display_name": "Python 3 (ipykernel)",
   "language": "python",
   "name": "python3"
  },
  "language_info": {
   "codemirror_mode": {
    "name": "ipython",
    "version": 3
   },
   "file_extension": ".py",
   "mimetype": "text/x-python",
   "name": "python",
   "nbconvert_exporter": "python",
   "pygments_lexer": "ipython3",
   "version": "3.9.5"
  }
 },
 "nbformat": 4,
 "nbformat_minor": 5
}
